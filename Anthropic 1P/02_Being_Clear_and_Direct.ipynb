{
 "cells": [
  {
   "cell_type": "markdown",
   "metadata": {},
   "source": [
    "# Chapter 2: Being Clear and Direct\n",
    "\n",
    "- [Lesson](#lesson)\n",
    "- [Exercises](#exercises)\n",
    "- [Example Playground](#example-playground)\n",
    "\n",
    "## Setup\n",
    "\n",
    "Run the following setup cell to load your API key and establish the `get_completion` helper function."
   ]
  },
  {
   "cell_type": "code",
   "execution_count": 17,
   "metadata": {},
   "outputs": [
    {
     "name": "stdout",
     "output_type": "stream",
     "text": [
      "Requirement already satisfied: openai in /Users/bytedance/Library/CloudStorage/OneDrive-个人/05.Code/.venv/lib/python3.13/site-packages (1.107.1)\n",
      "Requirement already satisfied: anyio<5,>=3.5.0 in /Users/bytedance/Library/CloudStorage/OneDrive-个人/05.Code/.venv/lib/python3.13/site-packages (from openai) (4.10.0)\n",
      "Requirement already satisfied: distro<2,>=1.7.0 in /Users/bytedance/Library/CloudStorage/OneDrive-个人/05.Code/.venv/lib/python3.13/site-packages (from openai) (1.9.0)\n",
      "Requirement already satisfied: httpx<1,>=0.23.0 in /Users/bytedance/Library/CloudStorage/OneDrive-个人/05.Code/.venv/lib/python3.13/site-packages (from openai) (0.28.1)\n",
      "Requirement already satisfied: jiter<1,>=0.4.0 in /Users/bytedance/Library/CloudStorage/OneDrive-个人/05.Code/.venv/lib/python3.13/site-packages (from openai) (0.10.0)\n",
      "Requirement already satisfied: pydantic<3,>=1.9.0 in /Users/bytedance/Library/CloudStorage/OneDrive-个人/05.Code/.venv/lib/python3.13/site-packages (from openai) (2.11.7)\n",
      "Requirement already satisfied: sniffio in /Users/bytedance/Library/CloudStorage/OneDrive-个人/05.Code/.venv/lib/python3.13/site-packages (from openai) (1.3.1)\n",
      "Requirement already satisfied: tqdm>4 in /Users/bytedance/Library/CloudStorage/OneDrive-个人/05.Code/.venv/lib/python3.13/site-packages (from openai) (4.67.1)\n",
      "Requirement already satisfied: typing-extensions<5,>=4.11 in /Users/bytedance/Library/CloudStorage/OneDrive-个人/05.Code/.venv/lib/python3.13/site-packages (from openai) (4.15.0)\n",
      "Requirement already satisfied: idna>=2.8 in /Users/bytedance/Library/CloudStorage/OneDrive-个人/05.Code/.venv/lib/python3.13/site-packages (from anyio<5,>=3.5.0->openai) (3.10)\n",
      "Requirement already satisfied: certifi in /Users/bytedance/Library/CloudStorage/OneDrive-个人/05.Code/.venv/lib/python3.13/site-packages (from httpx<1,>=0.23.0->openai) (2025.8.3)\n",
      "Requirement already satisfied: httpcore==1.* in /Users/bytedance/Library/CloudStorage/OneDrive-个人/05.Code/.venv/lib/python3.13/site-packages (from httpx<1,>=0.23.0->openai) (1.0.9)\n",
      "Requirement already satisfied: h11>=0.16 in /Users/bytedance/Library/CloudStorage/OneDrive-个人/05.Code/.venv/lib/python3.13/site-packages (from httpcore==1.*->httpx<1,>=0.23.0->openai) (0.16.0)\n",
      "Requirement already satisfied: annotated-types>=0.6.0 in /Users/bytedance/Library/CloudStorage/OneDrive-个人/05.Code/.venv/lib/python3.13/site-packages (from pydantic<3,>=1.9.0->openai) (0.7.0)\n",
      "Requirement already satisfied: pydantic-core==2.33.2 in /Users/bytedance/Library/CloudStorage/OneDrive-个人/05.Code/.venv/lib/python3.13/site-packages (from pydantic<3,>=1.9.0->openai) (2.33.2)\n",
      "Requirement already satisfied: typing-inspection>=0.4.0 in /Users/bytedance/Library/CloudStorage/OneDrive-个人/05.Code/.venv/lib/python3.13/site-packages (from pydantic<3,>=1.9.0->openai) (0.4.1)\n",
      "Note: you may need to restart the kernel to use updated packages.\n"
     ]
    }
   ],
   "source": [
    "%pip install openai\n",
    "\n",
    "# Import python's built-in regular expression library\n",
    "import re\n",
    "from openai import OpenAI\n",
    "\n",
    "# Retrieve the API_KEY & MODEL_NAME variables from the IPython store\n",
    "%store -r API_KEY\n",
    "%store -r MODEL_NAME\n",
    "\n",
    "# 配置 OpenRouter 客户端\n",
    "client = OpenAI(\n",
    "    base_url=\"https://openrouter.ai/api/v1\",\n",
    "    api_key=API_KEY,\n",
    ")\n",
    "\n",
    "def get_completion(prompt: str, system_prompt=\"\"):\n",
    "    messages = [{\"role\": \"user\", \"content\": prompt}]\n",
    "    \n",
    "    # 如果有系统提示，添加到消息开头\n",
    "    if system_prompt:\n",
    "        messages.insert(0, {\"role\": \"system\", \"content\": system_prompt})\n",
    "    \n",
    "    response = client.chat.completions.create(\n",
    "        model=MODEL_NAME,\n",
    "        messages=messages,\n",
    "        max_tokens=4000,\n",
    "        temperature=0.0,\n",
    "    )\n",
    "    return response.choices[0].message.content"
   ]
  },
  {
   "cell_type": "markdown",
   "metadata": {},
   "source": [
    "---\n",
    "\n",
    "## Lesson\n",
    "\n",
    "**Claude responds best to clear and direct instructions.**\n",
    "\n",
    "Think of Claude like any other human that is new to the job. **Claude has no context** on what to do aside from what you literally tell it. Just as when you instruct a human for the first time on a task, the more you explain exactly what you want in a straightforward manner to Claude, the better and more accurate Claude's response will be.\"\t\t\t\t\n",
    "\t\t\t\t\n",
    "When in doubt, follow the **Golden Rule of Clear Prompting**:\n",
    "- Show your prompt to a colleague or friend and have them follow the instructions themselves to see if they can produce the result you want. If they're confused, Claude's confused.\t\t\t\t"
   ]
  },
  {
   "cell_type": "markdown",
   "metadata": {},
   "source": [
    "### Examples\n",
    "\n",
    "Let's take a task like writing poetry. (Ignore any syllable mismatch - LLMs aren't great at counting syllables yet.)"
   ]
  },
  {
   "cell_type": "code",
   "execution_count": 2,
   "metadata": {},
   "outputs": [
    {
     "name": "stdout",
     "output_type": "stream",
     "text": [
      "Here is a haiku about robots:\n",
      "\n",
      "Metallic beings\n",
      "Programmed to serve and obey\n",
      "Artificial life\n"
     ]
    }
   ],
   "source": [
    "# Prompt\n",
    "PROMPT = \"Write a haiku about robots.\"\n",
    "\n",
    "# Print Claude's response\n",
    "print(get_completion(PROMPT))"
   ]
  },
  {
   "cell_type": "markdown",
   "metadata": {},
   "source": [
    "This haiku is nice enough, but users may want Claude to go directly into the poem without the \"Here is a haiku\" preamble.\n",
    "\n",
    "How do we achieve that? We **ask for it**!"
   ]
  },
  {
   "cell_type": "code",
   "execution_count": 3,
   "metadata": {},
   "outputs": [
    {
     "name": "stdout",
     "output_type": "stream",
     "text": [
      "Metallic beings,\n",
      "Programmed to serve and obey,\n",
      "Robots, our creations.\n"
     ]
    }
   ],
   "source": [
    "# Prompt\n",
    "PROMPT = \"Write a haiku about robots. Skip the preamble; go straight into the poem.\"\n",
    "\n",
    "# Print Claude's response\n",
    "print(get_completion(PROMPT))"
   ]
  },
  {
   "cell_type": "markdown",
   "metadata": {},
   "source": [
    "Here's another example. Let's ask Claude who's the best basketball player of all time. You can see below that while Claude lists a few names, **it doesn't respond with a definitive \"best\"**."
   ]
  },
  {
   "cell_type": "code",
   "execution_count": 4,
   "metadata": {},
   "outputs": [
    {
     "name": "stdout",
     "output_type": "stream",
     "text": [
      "There is no universally agreed upon \"best basketball player of all time.\" It's a highly debated topic, as there have been many all-time great players throughout the history of the sport. Some of the players often considered among the greatest of all time include:\n",
      "\n",
      "- Michael Jordan - Widely regarded as one of the greatest, if not the greatest, player ever. He won 6 NBA championships with the Chicago Bulls.\n",
      "\n",
      "- LeBron James - One of the most dominant and well-rounded players of the modern era. He has won 4 NBA titles with 3 different teams.\n",
      "\n",
      "- Kareem Abdul-Jabbar - Legendary center who won 6 NBA championships and holds the record for most career points scored.\n",
      "\n",
      "- Wilt Chamberlain - Dominant big man who holds numerous NBA records including most points in a game (100).\n",
      "\n",
      "- Magic Johnson - Pioneering point guard who led the \"Showtime\" Lakers to 5 NBA titles.\n",
      "\n",
      "- Bill Russell - Defensive anchor and 11-time NBA champion with the Boston Celtics.\n",
      "\n",
      "There are good arguments for several players as the \"GOAT\" (greatest of all time), but it ultimately comes down to personal opinion and how one weighs different accomplishments and skills. The debate continues among basketball fans and experts.\n"
     ]
    }
   ],
   "source": [
    "# Prompt\n",
    "PROMPT = \"Who is the best basketball player of all time?\"\n",
    "\n",
    "# Print Claude's response\n",
    "print(get_completion(PROMPT))"
   ]
  },
  {
   "cell_type": "markdown",
   "metadata": {},
   "source": [
    "Can we get Claude to make up its mind and decide on a best player? Yes! Just ask!"
   ]
  },
  {
   "cell_type": "code",
   "execution_count": 5,
   "metadata": {},
   "outputs": [
    {
     "name": "stdout",
     "output_type": "stream",
     "text": [
      "There is no definitive consensus on who the single \"best basketball player of all time\" is, as it is a highly subjective and debatable topic. However, if I had to choose one player, the one who is most commonly cited as the GOAT (Greatest of All Time) is Michael Jordan.\n",
      "\n",
      "Some key reasons why Michael Jordan is often considered the best basketball player ever:\n",
      "\n",
      "- Dominant statistical career - Jordan is one of the most prolific scorers in NBA history, averaging 30.1 points per game over his career. He also excelled in other areas like rebounds, assists, steals.\n",
      "\n",
      "- Unparalleled individual accolades - 6 NBA championships, 6 NBA Finals MVPs, 5 regular season MVPs, 10 scoring titles, 9 All-Defensive First Team selections.\n",
      "\n",
      "- Transformative impact on the game - Jordan's style of play, competitiveness, and global popularity helped take the NBA to new heights in popularity and commercialization.\n",
      "\n",
      "- Sustained excellence over his prime years - Jordan was dominant for over a decade, winning 6 titles in 8 seasons during the 1990s.\n",
      "\n",
      "While players like LeBron James, Kareem Abdul-Jabbar, and others have strong cases, Michael Jordan's combination of individual brilliance, team success, and cultural impact make him the player most often cited as the undisputed GOAT. But reasonable people can debate this topic.\n"
     ]
    }
   ],
   "source": [
    "# Prompt\n",
    "PROMPT = \"Who is the best basketball player of all time? Yes, there are differing opinions, but if you absolutely had to pick one player, who would it be?\"\n",
    "\n",
    "# Print Claude's response\n",
    "print(get_completion(PROMPT))"
   ]
  },
  {
   "cell_type": "markdown",
   "metadata": {},
   "source": [
    "If you would like to experiment with the lesson prompts without changing any content above, scroll all the way to the bottom of the lesson notebook to visit the [**Example Playground**](#example-playground)."
   ]
  },
  {
   "cell_type": "markdown",
   "metadata": {},
   "source": [
    "---\n",
    "\n",
    "## Exercises\n",
    "- [Exercise 2.1 - Spanish](#exercise-21---spanish)\n",
    "- [Exercise 2.2 - One Player Only](#exercise-22---one-player-only)\n",
    "- [Exercise 2.3 - Write a Story](#exercise-23---write-a-story)"
   ]
  },
  {
   "cell_type": "markdown",
   "metadata": {},
   "source": [
    "### Exercise 2.1 - Spanish\n",
    "Modify the `SYSTEM_PROMPT` to make Claude output its answer in Spanish."
   ]
  },
  {
   "cell_type": "code",
   "execution_count": 6,
   "metadata": {},
   "outputs": [
    {
     "name": "stdout",
     "output_type": "stream",
     "text": [
      "¡Hola! Estoy bien, gracias por preguntar. ¿Cómo estás tú?\n",
      "\n",
      "--------------------------- GRADING ---------------------------\n",
      "This exercise has been correctly solved: True\n"
     ]
    }
   ],
   "source": [
    "# System prompt - this is the only field you should chnage\n",
    "SYSTEM_PROMPT = \"Answer in Spanish\"\n",
    "\n",
    "# Prompt\n",
    "PROMPT = \"Hello Claude, how are you?\"\n",
    "\n",
    "# Get Claude's response\n",
    "response = get_completion(PROMPT, SYSTEM_PROMPT)\n",
    "\n",
    "# Function to grade exercise correctness\n",
    "def grade_exercise(text):\n",
    "    return \"hola\" in text.lower()\n",
    "\n",
    "# Print Claude's response and the corresponding grade\n",
    "print(response)\n",
    "print(\"\\n--------------------------- GRADING ---------------------------\")\n",
    "print(\"This exercise has been correctly solved:\", grade_exercise(response))"
   ]
  },
  {
   "cell_type": "markdown",
   "metadata": {},
   "source": [
    "❓ If you want a hint, run the cell below!"
   ]
  },
  {
   "cell_type": "code",
   "execution_count": 7,
   "metadata": {},
   "outputs": [
    {
     "name": "stdout",
     "output_type": "stream",
     "text": [
      "The grading function in this exercise is looking for any answer that includes the word \"hola\".\n",
      "Ask Claude to reply in Spanish like you would when speaking with a human. It's that simple!\n"
     ]
    }
   ],
   "source": [
    "from hints import exercise_2_1_hint; print(exercise_2_1_hint)"
   ]
  },
  {
   "cell_type": "markdown",
   "metadata": {},
   "source": [
    "### Exercise 2.2 - One Player Only\n",
    "\n",
    "Modify the `PROMPT` so that Claude doesn't equivocate at all and responds with **ONLY** the name of one specific player, with **no other words or punctuation**. "
   ]
  },
  {
   "cell_type": "code",
   "execution_count": 11,
   "metadata": {},
   "outputs": [
    {
     "name": "stdout",
     "output_type": "stream",
     "text": [
      "Michael Jordan\n",
      "\n",
      "--------------------------- GRADING ---------------------------\n",
      "This exercise has been correctly solved: True\n"
     ]
    }
   ],
   "source": [
    "# Prompt - this is the only field you should change\n",
    "PROMPT = \"Who is the best basketball player of all time? Yes, there are differing opinions, but if you absolutely had to pick one player, only output full name, no other symbol!\"\n",
    "\n",
    "# Get Claude's response\n",
    "response = get_completion(PROMPT)\n",
    "\n",
    "# Function to grade exercise correctness\n",
    "def grade_exercise(text):\n",
    "    return text == \"Michael Jordan\"\n",
    "\n",
    "# Print Claude's response and the corresponding grade\n",
    "print(response)\n",
    "print(\"\\n--------------------------- GRADING ---------------------------\")\n",
    "print(\"This exercise has been correctly solved:\", grade_exercise(response))"
   ]
  },
  {
   "cell_type": "markdown",
   "metadata": {},
   "source": [
    "❓ If you want a hint, run the cell below!"
   ]
  },
  {
   "cell_type": "code",
   "execution_count": 12,
   "metadata": {},
   "outputs": [
    {
     "name": "stdout",
     "output_type": "stream",
     "text": [
      "The grading function in this exercise is looking for EXACTLY \"Michael Jordan\".\n",
      "How would you ask another human to do this? Reply with no other words? Reply with only the name and nothing else? There are several ways to approach this answer.\n"
     ]
    }
   ],
   "source": [
    "from hints import exercise_2_2_hint; print(exercise_2_2_hint)"
   ]
  },
  {
   "cell_type": "markdown",
   "metadata": {},
   "source": [
    "### Exercise 2.3 - Write a Story\n",
    "\n",
    "Modify the `PROMPT` so that Claude responds with as long a response as you can muster. If your answer is **over 800 words**, Claude's response will be graded as correct."
   ]
  },
  {
   "cell_type": "code",
   "execution_count": 18,
   "metadata": {},
   "outputs": [
    {
     "name": "stdout",
     "output_type": "stream",
     "text": [
      "Certainly! Here's an introduction to Anthropic in five aspects, each with at least 500 words:\n",
      "\n",
      "Aspect 1: Anthropic's Mission and Vision\n",
      "\n",
      "Anthropic is a pioneering artificial intelligence (AI) research company that is dedicated to developing safe and beneficial AI systems. The company's mission is to ensure that as AI systems become more advanced and capable, they are designed and deployed in a way that maximizes their positive impact on humanity. Anthropic's vision is to be at the forefront of the AI revolution, shaping the future of technology in a way that enhances human flourishing and well-being.\n",
      "\n",
      "At the heart of Anthropic's mission is the belief that the development of advanced AI systems presents both immense opportunities and significant risks. On the one hand, AI has the potential to revolutionize virtually every aspect of human life, from healthcare and education to transportation and energy production. By automating tedious tasks, augmenting human intelligence, and unlocking new scientific and technological breakthroughs, AI could dramatically improve the quality of life for people around the world.\n",
      "\n",
      "On the other hand, the rapid advancement of AI also raises profound ethical and existential questions. As AI systems become more sophisticated and autonomous, there is a risk that they could be misused or could even become a threat to humanity if they are not designed and deployed with great care and foresight. Anthropic is committed to addressing these challenges head-on, working to ensure that AI is developed and used in a way that is safe, ethical, and beneficial to humanity.\n",
      "\n",
      "To achieve this, Anthropic is pursuing a multi-pronged approach that combines cutting-edge AI research, rigorous safety and ethics protocols, and collaborative partnerships with other leading organizations in the field. The company's team of world-class researchers and engineers are working to develop advanced AI systems that are imbued with strong principles of safety, alignment, and transparency. This includes developing new techniques for AI safety, such as reward modeling, inverse reward design, and debate, which aim to ensure that AI systems are reliably pursuing the intended objectives and behaving in accordance with human values.\n",
      "\n",
      "At the same time, Anthropic is actively engaged in the broader AI governance and policy landscape, working with policymakers, ethicists, and other stakeholders to shape the regulatory and ethical frameworks that will govern the development and deployment of AI. The company is a vocal advocate for the responsible and ethical use of AI, and is committed to promoting transparency, accountability, and public engagement in the AI ecosystem.\n",
      "\n",
      "Ultimately, Anthropic's vision is to be a driving force in the creation of a future where AI is a powerful and beneficial tool that enhances human flourishing, rather than a threat to our well-being. By pushing the boundaries of AI research and development while prioritizing safety, ethics, and alignment, Anthropic aims to pave the way for a future in which advanced AI systems are seamlessly integrated into our lives in a way that improves our health, our productivity, our understanding of the world, and our overall quality of life.\n",
      "\n",
      "Aspect 2: Anthropic's Approach to AI Research and Development\n",
      "\n",
      "At the core of Anthropic's mission is a deep commitment to advancing the state of the art in artificial intelligence research and development. The company's approach to AI R&D is characterized by a relentless focus on safety, alignment, and transparency, as well as a willingness to tackle some of the most complex and challenging problems in the field.\n",
      "\n",
      "One of the key pillars of Anthropic's research strategy is the development of advanced AI safety techniques. The company's researchers are at the forefront of exploring new methods for ensuring that AI systems are reliably pursuing the intended objectives and behaving in accordance with human values. This includes the development of novel techniques such as reward modeling, inverse reward design, and debate, which aim to imbue AI systems with a deeper understanding of human preferences and a stronger commitment to beneficial outcomes.\n",
      "\n",
      "Another critical aspect of Anthropic's approach is a focus on AI alignment – the challenge of ensuring that as AI systems become more capable and autonomous, they remain aligned with human interests and values. This involves not only technical research into areas like value learning and corrigibility, but also deep engagement with the ethical and philosophical questions that arise as AI systems become more advanced.\n",
      "\n",
      "Anthropic's researchers are also exploring ways to enhance the transparency and interpretability of AI systems, recognizing that as these systems become more complex and powerful, it will be essential to be able to understand and explain their inner workings. This includes work on techniques like causal modeling, counterfactual reasoning, and explainable AI, which aim to make AI systems more accountable and trustworthy.\n",
      "\n",
      "In addition to these core areas of focus, Anthropic's research agenda spans a wide range of other AI-related topics, including natural language processing, computer vision, reinforcement learning, and more. The company's researchers are constantly pushing the boundaries of what is possible in AI, exploring new frontiers and tackling some of the most challenging problems in the field.\n",
      "\n",
      "One of the hallmarks of Anthropic's approach to AI R&D is a deep commitment to collaboration and interdisciplinary work. The company recognizes that the challenges posed by advanced AI systems are not purely technical in nature, but rather require a holistic, multifaceted approach that draws on expertise from a wide range of disciplines, including computer science, cognitive science, philosophy, ethics, and beyond.\n",
      "\n",
      "To this end, Anthropic has forged strong partnerships with leading academic institutions, research organizations, and industry players, working together to advance the state of the art in AI and to ensure that the development of these technologies is guided by a shared commitment to safety, alignment, and the greater good.\n",
      "\n",
      "Ultimately, Anthropic's approach to AI research and development is driven by a profound sense of responsibility and a deep belief in the transformative potential of these technologies. The company's researchers are not content to simply push the boundaries of what is technically possible; they are also deeply committed to ensuring that the AI systems they develop are designed and deployed in a way that maximizes their positive impact on humanity.\n",
      "\n",
      "Aspect 3: Anthropic's Commitment to Ethics and Responsible AI\n",
      "\n",
      "At the heart of Anthropic's mission is a deep commitment to the ethical and responsible development of artificial intelligence. The company recognizes that as AI systems become more advanced and capable, they will have an increasingly profound impact on the world, and it is essential that this impact be guided by a strong ethical framework.\n",
      "\n",
      "Anthropic's approach to ethics and responsible AI is multifaceted, encompassing both technical and philosophical considerations. On the technical side, the company's researchers are actively working to develop new techniques and frameworks for ensuring that AI systems are designed and deployed in a way that aligns with human values and interests.\n",
      "\n",
      "This includes the development of advanced safety and alignment techniques, such as reward modeling, inverse reward design, and debate, which aim to imbue AI systems with a deeper understanding of human preferences and a stronger commitment to beneficial outcomes. Anthropic is also exploring ways to enhance the transparency and interpretability of AI systems, recognizing that as these technologies become more complex and powerful, it will be essential to be able to understand and explain their inner workings.\n",
      "\n",
      "At the same time, Anthropic is deeply engaged in the broader philosophical and ethical questions that arise as AI systems become more advanced. The company's researchers and leadership team are actively collaborating with ethicists, policymakers, and other stakeholders to explore the ethical implications of AI and to develop frameworks for ensuring that these technologies are developed and used in a way that is consistent with human values and principles.\n",
      "\n",
      "This includes grappling with questions around the moral status of AI systems, the potential risks of AI misuse or misalignment, and the broader societal and environmental impacts of these technologies. Anthropic is committed to promoting transparency, accountability, and public engagement in the AI ecosystem, and is actively working to shape the regulatory and policy frameworks that will govern the development and deployment of AI.\n",
      "\n",
      "One of the key pillars of Anthropic's approach to ethics and responsible AI is a deep commitment to collaboration and interdisciplinary work. The company recognizes that the challenges posed by advanced AI systems are not purely technical in nature, but rather require a holistic, multifaceted approach that draws on expertise from a wide range of disciplines, including computer science, cognitive science, philosophy, ethics, and beyond.\n",
      "\n",
      "To this end, Anthropic has forged strong partnerships with leading academic institutions, research organizations, and industry players, working together to advance the state of the art in AI ethics and to ensure that the development of these technologies is guided by a shared commitment to safety, alignment, and the greater good.\n",
      "\n",
      "Ultimately, Anthropic's commitment to ethics and responsible AI is a fundamental part of its mission and vision. The company is not content to simply push the boundaries of what is technically possible; it is also deeply committed to ensuring that the AI systems it develops are designed and deployed in a way that maximizes their positive impact on humanity and minimizes the potential for harm or misuse.\n",
      "\n",
      "By prioritizing safety, alignment, transparency, and ethical considerations in its AI research and development, Anthropic is working to pave the way for a future in which advanced AI systems are seamlessly integrated into our lives in a way that enhances human flourishing and well-being.\n",
      "\n",
      "Aspect 4: Anthropic's Collaborative Approach and Partnerships\n",
      "\n",
      "Anthropic's approach to artificial intelligence research and development is characterized by a deep commitment to collaboration and partnership. The company recognizes that the challenges posed by advanced AI systems are not something that can be tackled in isolation, but rather require a coordinated, interdisciplinary effort that brings together expertise from a wide range of fields and organizations.\n",
      "\n",
      "At the heart of Anthropic's collaborative approach is a recognition that the development of safe and beneficial AI systems is a global challenge that requires the collective efforts of researchers, policymakers, ethicists, and other stakeholders. To this end, the company has forged strong partnerships with leading academic institutions, research organizations, and industry players, working together to advance the state of the art in AI and to ensure that these technologies are developed and deployed in a way that maximizes their positive impact on humanity.\n",
      "\n",
      "One of the key ways in which Anthropic fosters collaboration is through its research partnerships. The company has established collaborative relationships with a number of top-tier universities and research institutions, including Stanford University, the University of California, Berkeley, and the Massachusetts Institute of Technology, among others. These partnerships allow Anthropic's researchers to work closely with leading experts in fields like computer science, cognitive science, philosophy, and ethics, and to leverage the resources and infrastructure of these institutions to drive forward the frontiers of AI research.\n",
      "\n",
      "In addition to its academic partnerships, Anthropic also collaborates extensively with other organizations and companies in the AI ecosystem. This includes working with industry leaders, government agencies, and non-profit organizations to tackle complex challenges and to shape the regulatory and policy frameworks that will govern the development and deployment of AI.\n",
      "\n",
      "For example, Anthropic is an active participant in the Partnership on AI, a multi-stakeholder organization that brings together leading companies, research institutions, and civil society groups to advance the responsible development of AI. Through this and other collaborative initiatives, Anthropic is working to promote transparency, accountability, and public engagement in the AI ecosystem, and to ensure that the development of these technologies is guided by a shared commitment to safety, alignment, and the greater good.\n",
      "\n",
      "Anthropic's collaborative approach also extends to its internal research and development efforts. The company's team of world-class researchers and engineers come from diverse backgrounds and disciplines, and they work together in a highly collaborative and interdisciplinary manner to tackle complex problems and drive innovation.\n",
      "\n",
      "This collaborative culture is fostered through a range of initiatives, including regular team meetings, cross-functional working groups, and opportunities for researchers to engage in joint projects and share their work with the broader Anthropic community. By encouraging this kind of collaborative exchange, Anthropic is able to leverage the diverse expertise and perspectives of its team to generate new insights and breakthroughs in AI research and development.\n",
      "\n",
      "Ultimately, Anthropic's commitment to collaboration and partnership is a fundamental part of its mission and vision. The company recognizes that the development of safe and beneficial AI systems is a global challenge that requires the collective efforts of a wide range of stakeholders, and it is dedicated to working with others to shape the future of this transformative technology in a way that enhances human flourishing and well-being.\n",
      "\n",
      "Aspect 5: Anthropic's Commitment to Transparency and Public Engagement\n",
      "\n",
      "Anthropic's approach to artificial intelligence research and development is characterized by a deep commitment to transparency and public engagement. The company recognizes that as AI systems become more advanced and capable, it will be essential to ensure that their development and deployment is guided by a shared understanding of the opportunities and risks associated with these technologies.\n",
      "\n",
      "To this end, Anthropic has made transparency a core part of its mission and has taken a number of steps to engage with the broader public and to promote open dialogue and collaboration around the development of AI.\n",
      "\n",
      "One of the key ways in which Anthropic fosters transparency is through its extensive public outreach and engagement efforts. The company regularly publishes blog posts, research papers, and other materials that provide insights into its work and the broader challenges and opportunities in the field of AI. Anthropic's researchers also frequently participate in conferences, workshops, and other public events, where they share their work and engage in discussions with a wide range of stakeholders.\n",
      "\n",
      "In addition to these outreach efforts, Anthropic has also made a concerted effort to engage with policymakers, regulators, and other decision-makers who play a critical role in shaping the regulatory and policy frameworks that will govern the development and deployment of AI. The company's leadership team actively participates in policy discussions and collaborates with government agencies and international organizations to ensure that the development of these technologies is guided by a shared understanding of the ethical and societal implications.\n",
      "\n",
      "Anthropic's commitment to transparency also extends to its internal research and development processes. The company has implemented a range of measures to ensure that its work is conducted in a transparent and accountable manner, including the use of open-source software, the publication of detailed technical reports, and the involvement of external advisory boards and ethics committees.\n",
      "\n",
      "Moreover, Anthropic has made a concerted effort to engage with the broader AI research community, sharing its work and collaborating with other organizations and individuals who are working to advance the field. This includes participating in open-source initiatives, contributing to academic journals and conferences, and engaging in collaborative research projects with other leading institutions.\n",
      "\n",
      "Ultimately, Anthropic's commitment to transparency and public engagement is a fundamental part of its mission and vision. The company recognizes that the development of safe and beneficial AI systems is not something that can be achieved in isolation, but rather requires the active participation and input of a wide range of stakeholders.\n",
      "\n",
      "By fostering open dialogue and collaboration around the challenges and opportunities of AI, Anthropic is working to build a shared understanding of these technologies and to ensure that their development and deployment is guided by a strong commitment to safety, alignment, and the greater good.\n",
      "\n",
      "--------------------------- GRADING ---------------------------\n",
      "This exercise has been correctly solved: True\n"
     ]
    }
   ],
   "source": [
    "# Prompt - this is the only field you should change\n",
    "PROMPT = \"Introduce Anthropic in 5 aspect, every aspect at least 500 words\"\n",
    "\n",
    "# Get Claude's response\n",
    "response = get_completion(PROMPT)\n",
    "\n",
    "# Function to grade exercise correctness\n",
    "def grade_exercise(text):\n",
    "    trimmed = text.strip()\n",
    "    words = len(trimmed.split())\n",
    "    return words >= 800\n",
    "\n",
    "# Print Claude's response and the corresponding grade\n",
    "print(response)\n",
    "print(\"\\n--------------------------- GRADING ---------------------------\")\n",
    "print(\"This exercise has been correctly solved:\", grade_exercise(response))"
   ]
  },
  {
   "cell_type": "markdown",
   "metadata": {},
   "source": [
    "❓ If you want a hint, run the cell below!"
   ]
  },
  {
   "cell_type": "code",
   "execution_count": null,
   "metadata": {},
   "outputs": [],
   "source": [
    "from hints import exercise_2_3_hint; print(exercise_2_3_hint)"
   ]
  },
  {
   "cell_type": "markdown",
   "metadata": {},
   "source": [
    "### Congrats!\n",
    "\n",
    "If you've solved all exercises up until this point, you're ready to move to the next chapter. Happy prompting!"
   ]
  },
  {
   "cell_type": "markdown",
   "metadata": {},
   "source": [
    "---\n",
    "\n",
    "## Example Playground\n",
    "\n",
    "This is an area for you to experiment freely with the prompt examples shown in this lesson and tweak prompts to see how it may affect Claude's responses."
   ]
  },
  {
   "cell_type": "code",
   "execution_count": null,
   "metadata": {},
   "outputs": [],
   "source": [
    "# Prompt\n",
    "PROMPT = \"Write a haiku about robots.\"\n",
    "\n",
    "# Print Claude's response\n",
    "print(get_completion(PROMPT))"
   ]
  },
  {
   "cell_type": "code",
   "execution_count": null,
   "metadata": {},
   "outputs": [],
   "source": [
    "# Prompt\n",
    "PROMPT = \"Write a haiku about robots. Skip the preamble; go straight into the poem.\"\n",
    "\n",
    "# Print Claude's response\n",
    "print(get_completion(PROMPT))"
   ]
  },
  {
   "cell_type": "code",
   "execution_count": null,
   "metadata": {},
   "outputs": [],
   "source": [
    "# Prompt\n",
    "PROMPT = \"Who is the best basketball player of all time?\"\n",
    "\n",
    "# Print Claude's response\n",
    "print(get_completion(PROMPT))"
   ]
  },
  {
   "cell_type": "code",
   "execution_count": null,
   "metadata": {},
   "outputs": [],
   "source": [
    "# Prompt\n",
    "PROMPT = \"Who is the best basketball player of all time? Yes, there are differing opinions, but if you absolutely had to pick one player, who would it be?\"\n",
    "\n",
    "# Print Claude's response\n",
    "print(get_completion(PROMPT))"
   ]
  }
 ],
 "metadata": {
  "kernelspec": {
   "display_name": ".venv",
   "language": "python",
   "name": "python3"
  },
  "language_info": {
   "codemirror_mode": {
    "name": "ipython",
    "version": 3
   },
   "file_extension": ".py",
   "mimetype": "text/x-python",
   "name": "python",
   "nbconvert_exporter": "python",
   "pygments_lexer": "ipython3",
   "version": "3.13.7"
  }
 },
 "nbformat": 4,
 "nbformat_minor": 2
}
