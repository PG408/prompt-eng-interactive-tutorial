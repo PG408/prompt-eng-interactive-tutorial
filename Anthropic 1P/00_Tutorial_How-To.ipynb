{
 "cells": [
  {
   "cell_type": "markdown",
   "metadata": {},
   "source": [
    "# Tutorial How-To\n",
    "\n",
    "这个教程**需要 API key** 来进行交互。如果您没有 Anthropic API key，您可以使用 OpenRouter API key，它支持访问 Claude 模型。或者您可以查看我们的[静态教程答案](https://docs.google.com/spreadsheets/u/0/d/1jIxjzUWG-6xBVIa2ay6yDpLyeuOh_hR_ZB75a47KX_E/edit)。"
   ]
  },
  {
   "cell_type": "markdown",
   "metadata": {},
   "source": [
    "## How to get started\n",
    "\n",
    "1. Clone this repository to your local machine.\n",
    "\n",
    "2. Install the required dependencies by running the following command:\n",
    " "
   ]
  },
  {
   "cell_type": "code",
   "execution_count": null,
   "metadata": {},
   "outputs": [],
   "source": [
    "%pip install openai"
   ]
  },
  {
   "cell_type": "markdown",
   "metadata": {},
   "source": [
    "3. 设置您的 OpenRouter API key 和模型名称。将 `\"your_openrouter_api_key_here\"` 替换为您实际的 OpenRouter API key。"
   ]
  },
  {
   "cell_type": "code",
   "execution_count": 3,
   "metadata": {},
   "outputs": [
    {
     "name": "stdout",
     "output_type": "stream",
     "text": [
      "Stored 'API_KEY' (str)\n",
      "Stored 'MODEL_NAME' (str)\n"
     ]
    }
   ],
   "source": [
    "API_KEY = \"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\"\n",
    "# OpenRouter 支持的 Claude 模型列表\n",
    "# claude-3-haiku: \"anthropic/claude-3-haiku\"\n",
    "# claude-3-sonnet: \"anthropic/claude-3-sonnet\" \n",
    "# claude-3-opus: \"anthropic/claude-3-opus\"\n",
    "MODEL_NAME = \"anthropic/claude-3-haiku\"\n",
    "\n",
    "# 存储 API_KEY 和 MODEL_NAME 变量以在 IPython store 中跨 notebook 使用\n",
    "%store API_KEY\n",
    "%store MODEL_NAME"
   ]
  },
  {
   "cell_type": "markdown",
   "metadata": {},
   "source": [
    "4. Run the notebook cells in order, following the instructions provided."
   ]
  },
  {
   "cell_type": "markdown",
   "metadata": {},
   "source": [
    "---\n",
    "\n",
    "## 使用说明和提示 💡\n",
    "\n",
    "- 本课程使用 Claude 3 Haiku，temperature 设为 0。我们将在课程后面详细讨论 temperature。目前只需要理解这些设置会产生更确定性的结果。本课程中的所有提示工程技巧也适用于之前版本的 Claude 模型，如 Claude 2 和 Claude Instant 1.2。\n",
    "\n",
    "- 您可以使用 `Shift + Enter` 执行单元格并移动到下一个。\n",
    "\n",
    "- 当您到达教程页面底部时，导航到文件夹中的下一个编号文件，或者如果您已完成该章节文件中的内容，则转到下一个编号文件夹。\n",
    "\n",
    "### OpenRouter SDK 和 OpenAI 兼容 API\n",
    "我们将在本教程中使用 [OpenAI python SDK](https://docs.openai.com/) 通过 OpenRouter 访问 Claude 模型。OpenRouter 提供与 OpenAI API 兼容的接口。\n",
    "\n",
    "下面是在本教程中运行提示的示例。首先，我们创建 `get_completion`，这是一个辅助函数，将提示发送给 Claude 并返回 Claude 生成的响应。现在运行该单元格。"
   ]
  },
  {
   "cell_type": "code",
   "execution_count": 4,
   "metadata": {},
   "outputs": [],
   "source": [
    "from openai import OpenAI\n",
    "\n",
    "# 配置 OpenRouter 客户端\n",
    "client = OpenAI(\n",
    "    base_url=\"https://openrouter.ai/api/v1\",\n",
    "    api_key=API_KEY,\n",
    ")\n",
    "\n",
    "def get_completion(prompt: str):\n",
    "    response = client.chat.completions.create(\n",
    "        model=MODEL_NAME,\n",
    "        messages=[\n",
    "            {\"role\": \"user\", \"content\": prompt}\n",
    "        ],\n",
    "        max_tokens=2000,\n",
    "        temperature=0.0,\n",
    "    )\n",
    "    return response.choices[0].message.content"
   ]
  },
  {
   "cell_type": "markdown",
   "metadata": {},
   "source": [
    "现在我们将为 Claude 编写一个示例提示，并通过运行我们的 `get_completion` 辅助函数来打印 Claude 的输出。运行下面的单元格将在其下方打印来自 Claude 的响应。\n",
    "\n",
    "随意调整提示字符串以从 Claude 获得不同的响应。"
   ]
  },
  {
   "cell_type": "code",
   "execution_count": 5,
   "metadata": {},
   "outputs": [
    {
     "name": "stdout",
     "output_type": "stream",
     "text": [
      "很高兴认识你!我是Claude,一个人工智能助手。我会尽力回答你的问题,并与你进行有趣的对话。请随时问我任何你想知道的事情,我会尽我所能提供帮助。\n"
     ]
    }
   ],
   "source": [
    "# 提示\n",
    "prompt = \"你好，Claude！\"\n",
    "\n",
    "# 获取 Claude 的响应\n",
    "print(get_completion(prompt))"
   ]
  },
  {
   "cell_type": "markdown",
   "metadata": {},
   "source": [
    "前面定义的 `API_KEY` 和 `MODEL_NAME` 变量将在整个教程中使用。只需确保从上到下运行每个教程页面的单元格即可。\n",
    "\n",
    "**注意**：OpenRouter 的免费额度有限，建议您充值少量余额以确保教程顺利进行。您可以在 [OpenRouter 网站](https://openrouter.ai/) 查看定价和充值。"
   ]
  }
 ],
 "metadata": {
  "kernelspec": {
   "display_name": "py310",
   "language": "python",
   "name": "python3"
  },
  "language_info": {
   "codemirror_mode": {
    "name": "ipython",
    "version": 3
   },
   "file_extension": ".py",
   "mimetype": "text/x-python",
   "name": "python",
   "nbconvert_exporter": "python",
   "pygments_lexer": "ipython3",
   "version": "3.10.14"
  }
 },
 "nbformat": 4,
 "nbformat_minor": 2
}
